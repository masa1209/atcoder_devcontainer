{
 "cells": [
  {
   "cell_type": "code",
   "execution_count": 20,
   "metadata": {},
   "outputs": [],
   "source": [
    "mylist = [\"1\", \"2\", \"3\"]"
   ]
  },
  {
   "cell_type": "code",
   "execution_count": 21,
   "metadata": {},
   "outputs": [],
   "source": [
    "mylist2 = list(map(int, mylist))"
   ]
  },
  {
   "cell_type": "code",
   "execution_count": 22,
   "metadata": {},
   "outputs": [
    {
     "data": {
      "text/plain": [
       "[1, 2, 3]"
      ]
     },
     "execution_count": 22,
     "metadata": {},
     "output_type": "execute_result"
    }
   ],
   "source": [
    "mylist2"
   ]
  },
  {
   "cell_type": "code",
   "execution_count": 27,
   "metadata": {},
   "outputs": [],
   "source": [
    "\n",
    "S = list(input())"
   ]
  },
  {
   "cell_type": "code",
   "execution_count": 28,
   "metadata": {},
   "outputs": [
    {
     "data": {
      "text/plain": [
       "['s', 'd', 'm', 'n', 'i', 's']"
      ]
     },
     "execution_count": 28,
     "metadata": {},
     "output_type": "execute_result"
    }
   ],
   "source": [
    "S"
   ]
  },
  {
   "cell_type": "code",
   "execution_count": 31,
   "metadata": {},
   "outputs": [
    {
     "name": "stdout",
     "output_type": "stream",
     "text": [
      "vgxgpunyakxksnyakbpphynyannaaplnyajaqmonyanyatkrjzrnyalvnyaaarenennnyacnnaurnyajnyanyannauyfvtvnrdynyaanyarnyanyawnnaznnannaennaaonyacnyanyaldqfzaorahdnyannaknvnyaztpcmnyaaovafnyaphvshnyaiqqtqnnaamqnyaqjhnyacexecmdkmznyabzrkjwqdynyanyaoossjoatryxmbwnyawexnyagmaygnyanyazpqftobtnyatuayxmwvzllnyanyadhuknyaznyatgqnyaguftuahalwvjwqncksizgzanyahyjujlknyaszafzjmdtsbnyadnyalcgknyagvmnyaeqnyadugofklitxaonyafoqnyasznjyarkupnyarinyaunyanyaxmoynnanyabdnfhfxamnyaabelnyabnyannanyaamlotftnqnyaolvuamahnyanyafdsqcfvnyaaocbnyajxrqsnyaknyanyapnyaqoqknyanyacyurnyarnhrhctntzlylnyaalnyanyadnyagynnanyaapnyafnlxfcevknyaaqsmeycannabessnyaazdprcomdpnyamsfnyaslksyveergcgnyancnyasnyapnyaalcgsqynyainyaixodiwqcyrnyawkrpnyaiasfkjexpfnyanyaiblsnyauyfskndnyawjefucdnyaiuenyafnyaghrnyanmvzljxioyundvpndnyanyannaenyanyajnyaacrxnyaahnyamudccmunyanyanyavsakxwseqznyayfezujaffdrsnyanyaqsnyacgdnyamrnyafndijnyapxhnnanyabagzrxkprtgboukfxiwhfzfksnyawnyaubspxsinyatqrwmvxfsvzlotlnyanyaliygnfdnyaawmxunyanqvjzgkpdzfnyacjcmsaaskextlsjrgnyaycnyanyanyaqnyanyanyajkntqryhjnyacxbnyaafnyaazmjcdnyavnuxmrdfgnyaqnyaanyaeanyaoomvpysjwnnaqyanyatnyatezurqhbuwnyaexrcuiwafnfvcasmrnyaqn\n"
     ]
    }
   ],
   "source": [
    "N = int(input())\n",
    "S = list(input())\n",
    "\n",
    "cnt = 0\n",
    "\n",
    "for i in range(N):\n",
    "    if S[i] == \"n\" and cnt == 0:\n",
    "        cnt += 1\n",
    "    elif S[i] == \"a\" and cnt == 1:\n",
    "        S[i] = \"ya\"\n",
    "        cnt = 0\n",
    "    else:\n",
    "        cnt = 0\n",
    "\n",
    "print(*S, sep=\"\")"
   ]
  },
  {
   "cell_type": "code",
   "execution_count": 78,
   "metadata": {},
   "outputs": [],
   "source": [
    "visited = [False] * 4\n",
    "w = [[1,3], [0,2], [2], [0]]"
   ]
  },
  {
   "cell_type": "code",
   "execution_count": 79,
   "metadata": {},
   "outputs": [
    {
     "data": {
      "text/plain": [
       "[False, False, False, False]"
      ]
     },
     "execution_count": 79,
     "metadata": {},
     "output_type": "execute_result"
    }
   ],
   "source": [
    "visited"
   ]
  },
  {
   "cell_type": "code",
   "execution_count": 80,
   "metadata": {},
   "outputs": [],
   "source": [
    "def dfs(i):\n",
    "    print(visited)\n",
    "    visited[i] = True\n",
    "    print(visited)\n",
    "    print(\"check{}\".format(i))\n",
    "    for j in w[i]:\n",
    "        print(\"check_inside{}\".format(j))\n",
    "        if not visited[j]:\n",
    "            print(\"not!\")\n",
    "            dfs(j)\n",
    "    \n",
    "\n"
   ]
  },
  {
   "cell_type": "code",
   "execution_count": 82,
   "metadata": {},
   "outputs": [
    {
     "name": "stdout",
     "output_type": "stream",
     "text": [
      "[True, True, True, True]\n",
      "[True, True, True, True]\n",
      "check0\n",
      "check_inside1\n",
      "check_inside3\n",
      "[True, True, True, True]\n",
      "[True, True, True, True]\n",
      "check1\n",
      "check_inside0\n",
      "check_inside2\n",
      "[True, True, True, True]\n",
      "[True, True, True, True]\n",
      "check2\n",
      "check_inside2\n",
      "[True, True, True, True]\n",
      "[True, True, True, True]\n",
      "check3\n",
      "check_inside0\n"
     ]
    }
   ],
   "source": [
    "for i in range(4):\n",
    "    dfs(i)\n",
    "\n",
    "    "
   ]
  },
  {
   "cell_type": "code",
   "execution_count": null,
   "metadata": {},
   "outputs": [],
   "source": []
  }
 ],
 "metadata": {
  "kernelspec": {
   "display_name": "Python 3",
   "language": "python",
   "name": "python3"
  },
  "language_info": {
   "codemirror_mode": {
    "name": "ipython",
    "version": 3
   },
   "file_extension": ".py",
   "mimetype": "text/x-python",
   "name": "python",
   "nbconvert_exporter": "python",
   "pygments_lexer": "ipython3",
   "version": "3.8.2"
  },
  "orig_nbformat": 4,
  "vscode": {
   "interpreter": {
    "hash": "aee8b7b246df8f9039afb4144a1f6fd8d2ca17a180786b69acc140d282b71a49"
   }
  }
 },
 "nbformat": 4,
 "nbformat_minor": 2
}
